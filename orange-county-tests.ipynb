{
 "cells": [
  {
   "cell_type": "code",
   "execution_count": 9,
   "metadata": {},
   "outputs": [],
   "source": [
    "#write the path of your chrome driver here, in quotes; directory must identify the file by name\n",
    "executable_path = \"chromedriver.exe\""
   ]
  },
  {
   "cell_type": "code",
   "execution_count": 6,
   "metadata": {},
   "outputs": [],
   "source": [
    "#importing necessary libraries\n",
    "from selenium import webdriver\n",
    "from selenium.webdriver.chrome.options import Options\n",
    "from selenium.webdriver.common.keys import Keys\n",
    "from selenium.webdriver.support import expected_conditions as EC\n",
    "from selenium.common.exceptions import JavascriptException, NoSuchElementException, StaleElementReferenceException\n",
    "from selenium.common.exceptions import TimeoutException, ElementClickInterceptedException\n",
    "from selenium.common.exceptions import ElementNotInteractableException, ElementNotSelectableException\n",
    "from selenium.webdriver import ActionChains\n",
    "from selenium.webdriver.common.by import By\n",
    "from selenium.webdriver.support.ui import WebDriverWait\n",
    "from IPython.display import clear_output\n",
    "from selenium.common.exceptions import ElementNotInteractableException, ElementNotSelectableException\n",
    "from bs4 import BeautifulSoup\n",
    "from datetime import datetime, timedelta\n",
    "import time\n",
    "import os\n",
    "import pickle\n",
    "import csv\n",
    "import unicodedata\n",
    "from os import path\n",
    "import csv\n",
    "from anticaptchaofficial.recaptchav2proxyless import *"
   ]
  },
  {
   "cell_type": "code",
   "execution_count": 90,
   "metadata": {},
   "outputs": [],
   "source": [
    "from anticaptchaofficial.recaptchav2proxyless import *\n",
    "from selenium.webdriver.support import expected_conditions as EC\n",
    "from selenium.webdriver.support.ui import WebDriverWait\n",
    "import time\n",
    "\n",
    "# TODO: Support more captcha types.\n",
    "\n",
    "class Recaptcha:\n",
    "\n",
    "    def _recaptcha_V2_solver(self):\n",
    "        self.solver = recaptchaV2Proxyless()\n",
    "        self.solver.set_verbose(0)\n",
    "        self.solver.set_key(self.apikey)\n",
    "        self.solver.set_website_url(self.driver.current_url)\n",
    "        self.solver.set_website_key(self.sitekey)\n",
    "        print('calling captcha service')\n",
    "        self.g_response = self.solver.solve_and_return_solution()\n",
    "\n",
    "class RecaptchaV2(Recaptcha):\n",
    "    \n",
    "    def _inject_response(self):\n",
    "        print('injecting response')\n",
    "        self.driver.execute_script(f'document.getElementById(\"g-recaptcha-response\").innerHTML = \"{self.g_response}\"')\n",
    "    \n",
    "    def _submit(self):\n",
    "        if self.script_submit != None:\n",
    "            self.driver.execute_script(self.script_submit)\n",
    "        elif self.xpath_submit != None:\n",
    "            self.driver.find_element(xpath_submit).click()\n",
    "        else:\n",
    "            raise SubmitException('no way to submit provided')\n",
    "        \n",
    "    def _solve(self):\n",
    "        try:\n",
    "            self._recaptcha_V2_solver()\n",
    "        except:\n",
    "            raise AnticaptchaError('AntiCaptcha returned an error')\n",
    "        try:\n",
    "            self._inject_response()\n",
    "        except:\n",
    "            raise InjectionError('cannot find g-recaptcha-response ID')\n",
    "        try:\n",
    "            self._submit()\n",
    "        except:\n",
    "            raise SubmitError('provided submit option is not working')\n",
    "    \n",
    "    # this function is the entry point\n",
    "    def solve(self, driver, sitekey, apikey, script_submit=None, xpath_submit=None):           \n",
    "        self.driver = driver\n",
    "        self.sitekey = sitekey\n",
    "        self.apikey = apikey\n",
    "        self.script_submit = script_submit\n",
    "        self.xpath_submit = xpath_submit\n",
    "        self._solve()\n",
    "\n",
    "class OrlandoRecaptcha(RecaptchaV2):\n",
    "    \n",
    "    def _submit(self):\n",
    "        self.driver.execute_script(\"arguments[0].disabled = ''\", driver.find_element_by_id(\"lblSearching\"))\n",
    "        self.driver.execute_script(\"arguments[0].disabled = ''\", driver.find_element_by_id(\"caseSearch\"))\n",
    "        self.driver.find_element(By.ID, 'caseSearch').click()"
   ]
  },
  {
   "cell_type": "code",
   "execution_count": 89,
   "metadata": {},
   "outputs": [],
   "source": [
    "SITEKEY = '6LdtOBETAAAAABvi0Md4UUqb7GKfkRiUR6AsrFX-'\n",
    "CALLBACK = '___grecaptcha_cfg.clients[0].R.R.callback'\n",
    "CAPTCHA = (By.NAME, \"__RequestVerificationToken\")\n",
    "APIKEY = '7bfe8cdb0872099fdd539be20fe13b1e'"
   ]
  },
  {
   "cell_type": "code",
   "execution_count": 56,
   "metadata": {},
   "outputs": [],
   "source": [
    "driver = webdriver.Chrome(executable_path=executable_path)\n",
    "driver.get('https://myeclerk.myorangeclerk.com/Cases/search')"
   ]
  },
  {
   "cell_type": "code",
   "execution_count": 91,
   "metadata": {},
   "outputs": [],
   "source": [
    "captcha = OrlandoRecaptcha()"
   ]
  },
  {
   "cell_type": "code",
   "execution_count": 92,
   "metadata": {},
   "outputs": [
    {
     "name": "stdout",
     "output_type": "stream",
     "text": [
      "calling captcha service\n",
      "injecting response\n",
      "03AGdBq244px_hW0bVuPpMYmGG5HhNWxRvyEUEPdwR-Z0CvFGd0C2kYfBPbC5Cq-FIZrWUvpknzpJC1vBGxJIDOZzne7Ona6uqwANz0fzVB1CQzHXUj6y1z7gYuPm0KqVxj2f6vUIjMOCdYWgEqKFRB-hGheZZ44mdgSJs8MFdiywb54FBMev0ZxIDG-IDX19iEOQyUAbV9LeEk3xAahpP7sVkFhYk6QkUdN_Jc24MBwbH_-e5sJVYjBc3ZMwZsoAk_26XyZYJi77ygrks4tZbiWcO3EEHOmG3Nv5-rY2_hhKrskOdM3s0d990qebzl28y0HoG3KfijGwYENjxQ2uHeAOWkPML8EPD40OFebL6ZKC8XUphCRdaGAoT0cHmgbQd-P2sPT1Rub06a8QPA7TkIvcd267ear4K8JHgHkgC6PJ9sIedl2t9aEMXKMZ_VrW9xxEgGkW8lnN7P-gQs4hDTyTuGOdZVMyhaqeXwFMSoa9BxrOOsjTC2uUetfgVe42YY-PLpAHXFilfzqgu7XFlTbJOJZ3CYpa3bRjZqD25UM_93kb-Hx6xer4\n"
     ]
    }
   ],
   "source": [
    "driver.find_element(By.XPATH, '//*[@id=\"searchPage\"]/div[1]/div/div[2]/form/fieldset/div[1]/div/div/button').click()\n",
    "driver.find_element(By.ID, \"input-caseTypes\").send_keys('eviction')\n",
    "driver.find_element(By.XPATH, '//*[@id=\"searchPage\"]/div[1]/div/div[2]/form/fieldset/div[1]/div/div/ul/li[61]/a/label/input').click()\n",
    "driver.find_element(By.XPATH, '//*[@id=\"searchPage\"]/div[1]/div/div[2]/form/fieldset/div[1]/div/div/button').click()\n",
    "driver.find_element(By.ID, \"DateFrom\").send_keys('10/1/20')\n",
    "driver.find_element(By.ID, \"DateTo\").send_keys('10/1/20')\n",
    "captcha.solve(driver, SITEKEY, APIKEY)\n",
    "print(captcha.g_response)"
   ]
  },
  {
   "cell_type": "code",
   "execution_count": 81,
   "metadata": {},
   "outputs": [
    {
     "name": "stdout",
     "output_type": "stream",
     "text": [
      "calling captcha service\n",
      "injecting response\n"
     ]
    }
   ],
   "source": [
    "captcha.solve(driver, SITEKEY, APIKEY)"
   ]
  },
  {
   "cell_type": "code",
   "execution_count": 88,
   "metadata": {},
   "outputs": [
    {
     "data": {
      "text/plain": [
       "0"
      ]
     },
     "execution_count": 88,
     "metadata": {},
     "output_type": "execute_result"
    }
   ],
   "source": [
    "captcha.g_response"
   ]
  },
  {
   "cell_type": "code",
   "execution_count": 86,
   "metadata": {},
   "outputs": [],
   "source": [
    "captcha._submit()"
   ]
  },
  {
   "cell_type": "code",
   "execution_count": 37,
   "metadata": {},
   "outputs": [
    {
     "data": {
      "text/plain": [
       "<selenium.webdriver.remote.webelement.WebElement (session=\"5d065d5c4b620f83d910521533944e37\", element=\"6876a24d-ab4e-4c50-a8f8-697278e85823\")>"
      ]
     },
     "execution_count": 37,
     "metadata": {},
     "output_type": "execute_result"
    }
   ],
   "source": [
    "driver.find_element_by_xpath('//*[@name=\"__RequestVerificationToken\"]')"
   ]
  },
  {
   "cell_type": "code",
   "execution_count": null,
   "metadata": {},
   "outputs": [],
   "source": []
  },
  {
   "cell_type": "code",
   "execution_count": null,
   "metadata": {},
   "outputs": [],
   "source": []
  },
  {
   "cell_type": "code",
   "execution_count": null,
   "metadata": {},
   "outputs": [],
   "source": []
  },
  {
   "cell_type": "code",
   "execution_count": null,
   "metadata": {},
   "outputs": [],
   "source": []
  },
  {
   "cell_type": "code",
   "execution_count": null,
   "metadata": {},
   "outputs": [],
   "source": [
    "driver.execute_script(\n",
    "    \"arguments[0].style.display='inline'\",\n",
    "    driver.find_element_by_xpath(\n",
    "        '//*[@id=\"g-recaptcha-response\"]'\n",
    "    ),\n",
    ")\n",
    "driver.execute_script(\n",
    "    'document.getElementById(\"g-recaptcha-response\").innerHTML = \"%s\"'\n",
    "    % captcha_response\n",
    ")"
   ]
  },
  {
   "cell_type": "code",
   "execution_count": 87,
   "metadata": {},
   "outputs": [
    {
     "name": "stdout",
     "output_type": "stream",
     "text": [
      "calling captcha service\n",
      "injecting response\n"
     ]
    }
   ],
   "source": [
    "\n",
    "#solution to access captcha frame cribbed from https://stackoverflow.com/questions/59403852/dealing-with-recaptcha-in-python-selenium\n",
    "#WebDriverWait(driver, 10).until(EC.frame_to_be_available_and_switch_to_it((By.CSS_SELECTOR,\"iframe[src^='https://www.google.com/recaptcha/api2/anchor?']\")))\n",
    "#WebDriverWait(driver, 10).until(EC.element_to_be_clickable((By.CSS_SELECTOR, \"span.recaptcha-checkbox.goog-inline-block.recaptcha-checkbox-unchecked.rc-anchor-checkbox\"))).click()\n",
    "solver = recaptchaV2Proxyless()\n",
    "solver.set_verbose(0)\n",
    "solver.set_key(APIKEY)\n",
    "solver.set_website_url(driver.current_url)\n",
    "solver.set_website_key(SITEKEY)\n",
    "print('calling captcha service')\n",
    "g_response = solver.solve_and_return_solution()\n",
    "print('injecting response')\n",
    "#driver.execute_script(f'{CALLBACK}(\"{g_response}\")')\n",
    "# Inject response in webpage\n",
    "#driver.switch_to.default_content()\n",
    "driver.execute_script(\n",
    "    \"arguments[0].style.display='inline'\",\n",
    "    driver.find_element_by_xpath(\n",
    "        '//*[@id=\"g-recaptcha-response\"]'\n",
    "    ),\n",
    ")\n",
    "driver.execute_script(f'document.getElementById(\"g-recaptcha-response\").innerHTML = \"{g_response}\"')\n"
   ]
  },
  {
   "cell_type": "code",
   "execution_count": null,
   "metadata": {},
   "outputs": [],
   "source": [
    "driver.execute_script(\"arguments[0].disabled = ''\", driver.find_element_by_id(\"lblSearching\"))\n",
    "driver.execute_script(\"arguments[0].disabled = ''\", driver.find_element_by_id(\"caseSearch\"))\n",
    "driver.find_element(By.ID, 'caseSearch').click()"
   ]
  },
  {
   "cell_type": "code",
   "execution_count": null,
   "metadata": {},
   "outputs": [],
   "source": []
  },
  {
   "cell_type": "code",
   "execution_count": 86,
   "metadata": {},
   "outputs": [],
   "source": [
    "driver.execute_script(\n",
    "    \"arguments[0].style.display='inline'\",\n",
    "    driver.find_element_by_xpath(\n",
    "        '//*[@id=\"g-recaptcha-response\"]'\n",
    "    ),\n",
    ")\n",
    "driver.execute_script(f'document.getElementById(\"g-recaptcha-response\").innerHTML = \"{g_response}\"')"
   ]
  },
  {
   "cell_type": "code",
   "execution_count": null,
   "metadata": {},
   "outputs": [],
   "source": [
    "driver.find_element_by_id(\"g-recaptcha-response\").innerHTML=\"TOKEN_FROM_2CAPTCHA\";"
   ]
  },
  {
   "cell_type": "code",
   "execution_count": 40,
   "metadata": {},
   "outputs": [
    {
     "ename": "ElementClickInterceptedException",
     "evalue": "Message: element click intercepted: Element <input class=\"form-control text-box single-line valid\" data-val=\"true\" data-val-requiredifnotempty=\" First Name is required if 'Last Name' is specified\" data-val-requiredifnotempty-dependentproperty=\"LastName\" id=\"FirstName\" maxlength=\"50\" name=\"FirstName\" type=\"text\" value=\"\" aria-invalid=\"false\" aria-describedby=\"FirstName-error\"> is not clickable at point (476, 420). Other element would receive the click: <label class=\"checkbox\">...</label>\n  (Session info: chrome=85.0.4183.121)\n",
     "output_type": "error",
     "traceback": [
      "\u001b[1;31m---------------------------------------------------------------------------\u001b[0m",
      "\u001b[1;31mElementClickInterceptedException\u001b[0m          Traceback (most recent call last)",
      "\u001b[1;32m<ipython-input-40-5465dfb16ed4>\u001b[0m in \u001b[0;36m<module>\u001b[1;34m\u001b[0m\n\u001b[0;32m      2\u001b[0m \u001b[1;31m#driver.find_element(By.ID, \"input-caseTypes\").send_keys('eviction')\u001b[0m\u001b[1;33m\u001b[0m\u001b[1;33m\u001b[0m\u001b[1;33m\u001b[0m\u001b[0m\n\u001b[0;32m      3\u001b[0m \u001b[0mdriver\u001b[0m\u001b[1;33m.\u001b[0m\u001b[0mfind_element\u001b[0m\u001b[1;33m(\u001b[0m\u001b[0mBy\u001b[0m\u001b[1;33m.\u001b[0m\u001b[0mXPATH\u001b[0m\u001b[1;33m,\u001b[0m \u001b[1;34m'//*[@id=\"searchPage\"]/div[1]/div/div[2]/form/fieldset/div[1]/div/div/ul/li[61]/a/label/input'\u001b[0m\u001b[1;33m)\u001b[0m\u001b[1;33m.\u001b[0m\u001b[0mclick\u001b[0m\u001b[1;33m(\u001b[0m\u001b[1;33m)\u001b[0m\u001b[1;33m\u001b[0m\u001b[1;33m\u001b[0m\u001b[0m\n\u001b[1;32m----> 4\u001b[1;33m \u001b[0mdriver\u001b[0m\u001b[1;33m.\u001b[0m\u001b[0mfind_element\u001b[0m\u001b[1;33m(\u001b[0m\u001b[0mBy\u001b[0m\u001b[1;33m.\u001b[0m\u001b[0mID\u001b[0m\u001b[1;33m,\u001b[0m \u001b[1;34m'FirstName'\u001b[0m\u001b[1;33m)\u001b[0m\u001b[1;33m.\u001b[0m\u001b[0mclick\u001b[0m\u001b[1;33m(\u001b[0m\u001b[1;33m)\u001b[0m\u001b[1;33m\u001b[0m\u001b[1;33m\u001b[0m\u001b[0m\n\u001b[0m\u001b[0;32m      5\u001b[0m \u001b[0mdriver\u001b[0m\u001b[1;33m.\u001b[0m\u001b[0mfind_element\u001b[0m\u001b[1;33m(\u001b[0m\u001b[0mBy\u001b[0m\u001b[1;33m.\u001b[0m\u001b[0mID\u001b[0m\u001b[1;33m,\u001b[0m \u001b[1;34m\"DateFrom\"\u001b[0m\u001b[1;33m)\u001b[0m\u001b[1;33m.\u001b[0m\u001b[0msend_keys\u001b[0m\u001b[1;33m(\u001b[0m\u001b[1;34m'10/1/20'\u001b[0m\u001b[1;33m)\u001b[0m\u001b[1;33m\u001b[0m\u001b[1;33m\u001b[0m\u001b[0m\n",
      "\u001b[1;32mc:\\users\\rlitt\\.virtualenvs\\tesseract-scraper-p2i6tfmd\\lib\\site-packages\\selenium\\webdriver\\remote\\webelement.py\u001b[0m in \u001b[0;36mclick\u001b[1;34m(self)\u001b[0m\n\u001b[0;32m     78\u001b[0m     \u001b[1;32mdef\u001b[0m \u001b[0mclick\u001b[0m\u001b[1;33m(\u001b[0m\u001b[0mself\u001b[0m\u001b[1;33m)\u001b[0m\u001b[1;33m:\u001b[0m\u001b[1;33m\u001b[0m\u001b[1;33m\u001b[0m\u001b[0m\n\u001b[0;32m     79\u001b[0m         \u001b[1;34m\"\"\"Clicks the element.\"\"\"\u001b[0m\u001b[1;33m\u001b[0m\u001b[1;33m\u001b[0m\u001b[0m\n\u001b[1;32m---> 80\u001b[1;33m         \u001b[0mself\u001b[0m\u001b[1;33m.\u001b[0m\u001b[0m_execute\u001b[0m\u001b[1;33m(\u001b[0m\u001b[0mCommand\u001b[0m\u001b[1;33m.\u001b[0m\u001b[0mCLICK_ELEMENT\u001b[0m\u001b[1;33m)\u001b[0m\u001b[1;33m\u001b[0m\u001b[1;33m\u001b[0m\u001b[0m\n\u001b[0m\u001b[0;32m     81\u001b[0m \u001b[1;33m\u001b[0m\u001b[0m\n\u001b[0;32m     82\u001b[0m     \u001b[1;32mdef\u001b[0m \u001b[0msubmit\u001b[0m\u001b[1;33m(\u001b[0m\u001b[0mself\u001b[0m\u001b[1;33m)\u001b[0m\u001b[1;33m:\u001b[0m\u001b[1;33m\u001b[0m\u001b[1;33m\u001b[0m\u001b[0m\n",
      "\u001b[1;32mc:\\users\\rlitt\\.virtualenvs\\tesseract-scraper-p2i6tfmd\\lib\\site-packages\\selenium\\webdriver\\remote\\webelement.py\u001b[0m in \u001b[0;36m_execute\u001b[1;34m(self, command, params)\u001b[0m\n\u001b[0;32m    631\u001b[0m             \u001b[0mparams\u001b[0m \u001b[1;33m=\u001b[0m \u001b[1;33m{\u001b[0m\u001b[1;33m}\u001b[0m\u001b[1;33m\u001b[0m\u001b[1;33m\u001b[0m\u001b[0m\n\u001b[0;32m    632\u001b[0m         \u001b[0mparams\u001b[0m\u001b[1;33m[\u001b[0m\u001b[1;34m'id'\u001b[0m\u001b[1;33m]\u001b[0m \u001b[1;33m=\u001b[0m \u001b[0mself\u001b[0m\u001b[1;33m.\u001b[0m\u001b[0m_id\u001b[0m\u001b[1;33m\u001b[0m\u001b[1;33m\u001b[0m\u001b[0m\n\u001b[1;32m--> 633\u001b[1;33m         \u001b[1;32mreturn\u001b[0m \u001b[0mself\u001b[0m\u001b[1;33m.\u001b[0m\u001b[0m_parent\u001b[0m\u001b[1;33m.\u001b[0m\u001b[0mexecute\u001b[0m\u001b[1;33m(\u001b[0m\u001b[0mcommand\u001b[0m\u001b[1;33m,\u001b[0m \u001b[0mparams\u001b[0m\u001b[1;33m)\u001b[0m\u001b[1;33m\u001b[0m\u001b[1;33m\u001b[0m\u001b[0m\n\u001b[0m\u001b[0;32m    634\u001b[0m \u001b[1;33m\u001b[0m\u001b[0m\n\u001b[0;32m    635\u001b[0m     \u001b[1;32mdef\u001b[0m \u001b[0mfind_element\u001b[0m\u001b[1;33m(\u001b[0m\u001b[0mself\u001b[0m\u001b[1;33m,\u001b[0m \u001b[0mby\u001b[0m\u001b[1;33m=\u001b[0m\u001b[0mBy\u001b[0m\u001b[1;33m.\u001b[0m\u001b[0mID\u001b[0m\u001b[1;33m,\u001b[0m \u001b[0mvalue\u001b[0m\u001b[1;33m=\u001b[0m\u001b[1;32mNone\u001b[0m\u001b[1;33m)\u001b[0m\u001b[1;33m:\u001b[0m\u001b[1;33m\u001b[0m\u001b[1;33m\u001b[0m\u001b[0m\n",
      "\u001b[1;32mc:\\users\\rlitt\\.virtualenvs\\tesseract-scraper-p2i6tfmd\\lib\\site-packages\\selenium\\webdriver\\remote\\webdriver.py\u001b[0m in \u001b[0;36mexecute\u001b[1;34m(self, driver_command, params)\u001b[0m\n\u001b[0;32m    319\u001b[0m         \u001b[0mresponse\u001b[0m \u001b[1;33m=\u001b[0m \u001b[0mself\u001b[0m\u001b[1;33m.\u001b[0m\u001b[0mcommand_executor\u001b[0m\u001b[1;33m.\u001b[0m\u001b[0mexecute\u001b[0m\u001b[1;33m(\u001b[0m\u001b[0mdriver_command\u001b[0m\u001b[1;33m,\u001b[0m \u001b[0mparams\u001b[0m\u001b[1;33m)\u001b[0m\u001b[1;33m\u001b[0m\u001b[1;33m\u001b[0m\u001b[0m\n\u001b[0;32m    320\u001b[0m         \u001b[1;32mif\u001b[0m \u001b[0mresponse\u001b[0m\u001b[1;33m:\u001b[0m\u001b[1;33m\u001b[0m\u001b[1;33m\u001b[0m\u001b[0m\n\u001b[1;32m--> 321\u001b[1;33m             \u001b[0mself\u001b[0m\u001b[1;33m.\u001b[0m\u001b[0merror_handler\u001b[0m\u001b[1;33m.\u001b[0m\u001b[0mcheck_response\u001b[0m\u001b[1;33m(\u001b[0m\u001b[0mresponse\u001b[0m\u001b[1;33m)\u001b[0m\u001b[1;33m\u001b[0m\u001b[1;33m\u001b[0m\u001b[0m\n\u001b[0m\u001b[0;32m    322\u001b[0m             response['value'] = self._unwrap_value(\n\u001b[0;32m    323\u001b[0m                 response.get('value', None))\n",
      "\u001b[1;32mc:\\users\\rlitt\\.virtualenvs\\tesseract-scraper-p2i6tfmd\\lib\\site-packages\\selenium\\webdriver\\remote\\errorhandler.py\u001b[0m in \u001b[0;36mcheck_response\u001b[1;34m(self, response)\u001b[0m\n\u001b[0;32m    240\u001b[0m                 \u001b[0malert_text\u001b[0m \u001b[1;33m=\u001b[0m \u001b[0mvalue\u001b[0m\u001b[1;33m[\u001b[0m\u001b[1;34m'alert'\u001b[0m\u001b[1;33m]\u001b[0m\u001b[1;33m.\u001b[0m\u001b[0mget\u001b[0m\u001b[1;33m(\u001b[0m\u001b[1;34m'text'\u001b[0m\u001b[1;33m)\u001b[0m\u001b[1;33m\u001b[0m\u001b[1;33m\u001b[0m\u001b[0m\n\u001b[0;32m    241\u001b[0m             \u001b[1;32mraise\u001b[0m \u001b[0mexception_class\u001b[0m\u001b[1;33m(\u001b[0m\u001b[0mmessage\u001b[0m\u001b[1;33m,\u001b[0m \u001b[0mscreen\u001b[0m\u001b[1;33m,\u001b[0m \u001b[0mstacktrace\u001b[0m\u001b[1;33m,\u001b[0m \u001b[0malert_text\u001b[0m\u001b[1;33m)\u001b[0m\u001b[1;33m\u001b[0m\u001b[1;33m\u001b[0m\u001b[0m\n\u001b[1;32m--> 242\u001b[1;33m         \u001b[1;32mraise\u001b[0m \u001b[0mexception_class\u001b[0m\u001b[1;33m(\u001b[0m\u001b[0mmessage\u001b[0m\u001b[1;33m,\u001b[0m \u001b[0mscreen\u001b[0m\u001b[1;33m,\u001b[0m \u001b[0mstacktrace\u001b[0m\u001b[1;33m)\u001b[0m\u001b[1;33m\u001b[0m\u001b[1;33m\u001b[0m\u001b[0m\n\u001b[0m\u001b[0;32m    243\u001b[0m \u001b[1;33m\u001b[0m\u001b[0m\n\u001b[0;32m    244\u001b[0m     \u001b[1;32mdef\u001b[0m \u001b[0m_value_or_default\u001b[0m\u001b[1;33m(\u001b[0m\u001b[0mself\u001b[0m\u001b[1;33m,\u001b[0m \u001b[0mobj\u001b[0m\u001b[1;33m,\u001b[0m \u001b[0mkey\u001b[0m\u001b[1;33m,\u001b[0m \u001b[0mdefault\u001b[0m\u001b[1;33m)\u001b[0m\u001b[1;33m:\u001b[0m\u001b[1;33m\u001b[0m\u001b[1;33m\u001b[0m\u001b[0m\n",
      "\u001b[1;31mElementClickInterceptedException\u001b[0m: Message: element click intercepted: Element <input class=\"form-control text-box single-line valid\" data-val=\"true\" data-val-requiredifnotempty=\" First Name is required if 'Last Name' is specified\" data-val-requiredifnotempty-dependentproperty=\"LastName\" id=\"FirstName\" maxlength=\"50\" name=\"FirstName\" type=\"text\" value=\"\" aria-invalid=\"false\" aria-describedby=\"FirstName-error\"> is not clickable at point (476, 420). Other element would receive the click: <label class=\"checkbox\">...</label>\n  (Session info: chrome=85.0.4183.121)\n"
     ]
    }
   ],
   "source": []
  },
  {
   "cell_type": "code",
   "execution_count": null,
   "metadata": {},
   "outputs": [],
   "source": []
  }
 ],
 "metadata": {
  "kernelspec": {
   "display_name": "Python 3",
   "language": "python",
   "name": "python3"
  },
  "language_info": {
   "codemirror_mode": {
    "name": "ipython",
    "version": 3
   },
   "file_extension": ".py",
   "mimetype": "text/x-python",
   "name": "python",
   "nbconvert_exporter": "python",
   "pygments_lexer": "ipython3",
   "version": "3.8.5"
  }
 },
 "nbformat": 4,
 "nbformat_minor": 4
}
