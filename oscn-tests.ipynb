{
 "cells": [
  {
   "cell_type": "code",
   "execution_count": 1,
   "metadata": {},
   "outputs": [],
   "source": [
    "from datetime import timedelta, datetime\n",
    "from pandas.tseries.holiday import USFederalHolidayCalendar\n",
    "\n",
    "class LastDate:\n",
    "    \n",
    "    def __init__(self):\n",
    "        now = datetime.today()\n",
    "        self.current_year = now.year\n",
    "        self.current_day = now.replace(hour=0, minute=0, second=0, microsecond=0)\n",
    "        self.cal = USFederalHolidayCalendar()\n",
    "\n",
    "    def _most_recent_workday(self, last_day):\n",
    "        #returns most recent workday, accounting for federal holidays and weekends\n",
    "        self.holidays = self.cal.holidays(datetime(self.input_year, 1, 1), datetime(self.input_year, 12, 31)).to_pydatetime()\n",
    "        if self.search_date.weekday() < 5 and self.search_date not in self.holidays:\n",
    "            pass\n",
    "        elif self.search_date.weekday() < 5 and self.search_date in self.holidays:\n",
    "            self.search_date = (self.search_date - timedelta(days = 1))\n",
    "            if self.search_date.weekday() < 5:\n",
    "                pass\n",
    "            else:\n",
    "                difference = (self.search_date.weekday() - 4)\n",
    "                self.search_date = (self.search_date - timedelta(days=difference))\n",
    "        else:\n",
    "            difference = (self.search_date.weekday() - 4)\n",
    "            self.search_date = (self.search_date - timedelta(days=difference))\n",
    "        return self.search_date\n",
    "\n",
    "    # function returns most recent weekday with an option to manually override\n",
    "    def date_to_search(self, year, subtract_days = 1):\n",
    "        if len(str(year)) != 4:\n",
    "            return Exception('year format must conform to XXXX')\n",
    "        else:\n",
    "            pass\n",
    "        self.input_year = year\n",
    "        if self.input_year == self.current_year:\n",
    "            self.search_date = (self.current_day - timedelta(days=subtract_days))\n",
    "            return self._most_recent_workday(self.search_date)\n",
    "        else:\n",
    "            self.search_date = (datetime(self.input_year, 12, 31) - timedelta(days=(subtract_days - 1)))\n",
    "            return self._most_recent_workday(self.search_date)"
   ]
  },
  {
   "cell_type": "code",
   "execution_count": 2,
   "metadata": {},
   "outputs": [
    {
     "data": {
      "text/plain": [
       "datetime.datetime(2020, 11, 10, 0, 0)"
      ]
     },
     "execution_count": 2,
     "metadata": {},
     "output_type": "execute_result"
    }
   ],
   "source": [
    "test_date = LastDate()\n",
    "test_date.date_to_search(2020)"
   ]
  },
  {
   "cell_type": "code",
   "execution_count": 2,
   "metadata": {},
   "outputs": [],
   "source": [
    "import requests\n",
    "from lxml import html\n",
    "from fake_useragent import UserAgent\n",
    "\n",
    "class RequestsPage:\n",
    "        \n",
    "    def get_html(self, url, payload=None, fakeuser=None):\n",
    "        self.url = url\n",
    "        if fakeuser:\n",
    "            fakeuser = UserAgent()\n",
    "            headers = {'user-agent': fakeuser.chrome}\n",
    "            data = requests.get(url, headers=headers, params=payload)\n",
    "        else:\n",
    "            data = requests.get(url, params=payload)\n",
    "        return data\n",
    "\n",
    "    def save_html(self, data, filename):\n",
    "        self.file = open(filename, \"a\")\n",
    "        self.file.write(data)\n",
    "        self.file.close()"
   ]
  },
  {
   "cell_type": "code",
   "execution_count": 3,
   "metadata": {},
   "outputs": [],
   "source": [
    "#https://www.oscn.net/applications/oscn/report.asp?report=DailyFilings&errorcheck=true&database=&db=Canadian&StartDate=09%2F04%2F20\n",
    "\n",
    "class OklahomaURLs:\n",
    "    search_page = 'https://www.oscn.net/applications/oscn/report.asp'\n",
    "    case_details = 'https://www.oscn.net/dockets/GetCaseInformation.aspx'"
   ]
  },
  {
   "cell_type": "code",
   "execution_count": 4,
   "metadata": {},
   "outputs": [],
   "source": [
    "class SearchPageMixIn():\n",
    "\n",
    "    lastdate = LastDate()\n",
    "    \n",
    "    def _county_specific_selenium_search(self):\n",
    "        return exception('County is not supported. Are you a developer? Did you forget to provide county-specific steps for searching?')\n",
    "    \n",
    "    def _get_last_workday(self, subtract_days = 1):\n",
    "        self.url_date = self.lastdate.date_to_search(self.year, subtract_days = subtract_days).strftime(\"%m/%d/%y\")\n",
    "\n",
    "    def _subtract_another_day(self, subtract_days = 1):\n",
    "        self.subtract_days = self.subtract_days + subtract_days\n",
    "\n",
    "    def _parse_case_table(self):\n",
    "        if self.driver != None:\n",
    "            try:    \n",
    "                self.case_rows = self.driver.find_elements(*self.locator)\n",
    "            except TypeError:\n",
    "                raise TypeError('No locator specified for table rows.')\n",
    "        else:\n",
    "            self.parser = etree.HTMLParser()\n",
    "            self.tree = etree.parse(StringIO(self.output.text), self.parser)\n",
    "            self.case_rows = self.tree.xpath(f'//*[contains(text(), \"{self.case_prefix}-\")]')\n",
    "        self.case_number = self.case_rows[len(self.case_rows)-1].text\n",
    "        return self.case_number\n",
    "\n",
    "    def _search_previous_day_until_success(self):\n",
    "        result = None\n",
    "        while result is None:\n",
    "            try:\n",
    "                print('subtracting another day')\n",
    "                self._subtract_another_day()\n",
    "                print('getting next workday')\n",
    "                self._get_last_workday(subtract_days = self.subtract_days)\n",
    "                print('calling new html search')\n",
    "                if self.driver != None:\n",
    "                    self._county_specific_selenium_search()\n",
    "                else:\n",
    "                    self.output = self.get_html(self.url, payload = self.payload)\n",
    "                self.output = self.get_html(self.url, payload = self.payload)\n",
    "                print(f'attempting to parse case table for {self.url_date}')\n",
    "                result = self._parse_case_table()\n",
    "            except IndexError:\n",
    "                pass  \n",
    "        return result\n",
    "\n",
    "    def most_recent_case(self, county, year, case_prefix, session=None, driver=None, locator=None):\n",
    "        self.county = county\n",
    "        self.year = year\n",
    "        self.case_prefix = case_prefix\n",
    "        self.driver = driver\n",
    "        self.locator = locator\n",
    "        self.session = session\n",
    "        self._get_last_workday()\n",
    "        if self.driver != None:\n",
    "            self._county_specific_selenium_steps()\n",
    "        else:\n",
    "            self.output = self.get_html(self.url, payload = self.payload) \n",
    "        try:\n",
    "            return self._parse_case_table()\n",
    "        except IndexError:\n",
    "            return self._search_previous_day_until_success()"
   ]
  },
  {
   "cell_type": "code",
   "execution_count": 6,
   "metadata": {},
   "outputs": [],
   "source": [
    "#from datetime import datetime, timedelta, date\n",
    "from lxml import etree\n",
    "from io import StringIO, BytesIO\n",
    "\n",
    "class SearchPage(RequestsPage, SearchPageMixIn):\n",
    "    \n",
    "    url = OklahomaURLs.search_page\n",
    "        \n",
    "    def _get_last_workday(self, subtract_days = 1):\n",
    "        #self.url_date = self.lastdate.date_to_search(self.year, subtract_days = subtract_days).strftime(\"%m/%d/%y\")\n",
    "        super()._get_last_workday()\n",
    "        self.payload = {\n",
    "            'report' : 'DailyFilings',\n",
    "            'errorcheck' : 'true',\n",
    "            'database' : '',\n",
    "            'db' : self.county,\n",
    "            'StartDate' : self.url_date\n",
    "                       }\n",
    "    \n",
    "   "
   ]
  },
  {
   "cell_type": "code",
   "execution_count": 18,
   "metadata": {},
   "outputs": [
    {
     "data": {
      "text/plain": [
       "'SC-2013-21179'"
      ]
     },
     "execution_count": 18,
     "metadata": {},
     "output_type": "execute_result"
    }
   ],
   "source": [
    "searchpage = SearchPage()\n",
    "searchpage.most_recent_case('tulsa', 2013, 'SC')"
   ]
  },
  {
   "cell_type": "code",
   "execution_count": 84,
   "metadata": {},
   "outputs": [
    {
     "data": {
      "text/plain": [
       "2019"
      ]
     },
     "execution_count": 84,
     "metadata": {},
     "output_type": "execute_result"
    }
   ],
   "source": [
    "searchpage.year"
   ]
  },
  {
   "cell_type": "code",
   "execution_count": 98,
   "metadata": {},
   "outputs": [
    {
     "data": {
      "text/plain": [
       "'09/14/20'"
      ]
     },
     "execution_count": 98,
     "metadata": {},
     "output_type": "execute_result"
    }
   ],
   "source": [
    "searchpage.url_date"
   ]
  },
  {
   "cell_type": "code",
   "execution_count": 9,
   "metadata": {},
   "outputs": [],
   "source": [
    "class CaseDetails(RequestsPage):\n",
    "    \n",
    "    url = OklahomaURLs.case_details\n",
    "    \n",
    "    def _build_payload(self):\n",
    "        self.payload = {\n",
    "            'db' : self.county,\n",
    "            'number' : self.case_number\n",
    "                       }\n",
    "    \n",
    "    def page_source(self, county, case_number):\n",
    "        self.county = county\n",
    "        self.case_number = case_number\n",
    "        self._build_payload()\n",
    "        self.output = self.get_html(self.url, payload = self.payload)\n",
    "        "
   ]
  },
  {
   "cell_type": "code",
   "execution_count": 10,
   "metadata": {},
   "outputs": [
    {
     "data": {
      "text/plain": [
       "'<!DOCTYPE html>\\n<!--[if lt IE 7]>      <html lang=\"en-US\" class=\"no-js lt-ie9 lt-ie8 lt-ie7\"> <![endif]-->\\n<!--[if IE 7]>         <html lang=\"en-US\" class=\"no-js lt-ie9 lt-ie8\"> <![endif]-->\\n<!--[if IE 8]>         <html lang=\"en-US\" class=\"no-js lt-ie9\"> <![endif]-->\\n<!--[if gt IE 8]><!--> <html lang=\"en-US\" class=\"no-js\"> <!--<![endif]-->\\n    <head>\\n        <meta charset=\"utf-8\">\\n        <meta http-equiv=\"X-UA-Compatible\" content=\"IE=edge\">\\n        <title>\\r\\n    OSCN Case Details\\r\\n  </title>\\n        <meta name=\"description\" content=\"\">\\n        <meta name=\"viewport\" content=\"width=device-width, initial-scale=1\">\\n\\n\\n        <link rel=\"stylesheet\" href=\"/assets/css/normalize.min.css\">\\n        <link rel=\"stylesheet\" href=\"/assets/css/main.css\">\\n        <link rel=\"stylesheet\" href=\"/assets/css/bootstrap-2.3.2.min.css\">\\n        <link rel=\"stylesheet\" href=\"/assets/css/oscn-navigation.css\">\\n        <link rel=\"stylesheet\" href=\"/assets/css/oscn-footer.css\">\\n\\n<!-- /STYLESHEET_INLINE/ -->\\n        <script src=\"/assets/js/modernizr-2.6.2.min.js\"></script>\\n\\t\\t<!--[if lt IE 9]>\\t\\n\\t\\t<script src=\"/assets/js/respond.min.js\"></script>\\n\\t\\t<script>\\n\\t\\twindow.onload = function() {\\n\\t\\t\\tsetTimeout(function(){\\t\\t\\t\\t\\n\\t\\t\\t\\tvar height = $(\".footer\").outerHeight(true);\\n\\t\\t\\t\\t$(\"#oscn-content\").css(\"padding-bottom\", function(){\\n\\t\\t\\t\\t\\treturn height;\\n\\t\\t\\t\\t});}, 2000);\\n\\t\\t}\\n\\t\\t</script>\\n\\t\\t<![endif]-->\\n        <script src=\"/assets/js/cookies.js\"></script>\\t\\t\\t\\n<!-- /JAVASCRIPT_TOP/ -->\\n<script>\\n(function(i,s,o,g,r,a,m){i[\\'GoogleAnalyticsObject\\']=r;i[r]=i[r]||function(){\\n(i[r].q=i[r].q||[]).push(arguments)},i[r].l=1*new Date();a=s.createElement(o),\\nm=s.getElementsByTagName(o)[0];a.async=1;a.src=g;m.parentNode.insertBefore(a,m)\\n})(window,document,\\'script\\',\\'//www.google-analytics.com/analytics.js\\',\\'ga\\');\\n\\nga(\\'create\\', \\'UA-54280338-1\\', {\\'sampleRate\\': 50});\\nga(\\'send\\', \\'pageview\\');\\n</script>\\n    </head>\\n    <body>\\n\\t<div class=\"wrapper\">\\n<!-- /ERRORMESSAGE/ -->\\n\\t\\t<div class=\"header\">\\r\\n\\t\\t\\t<div class=\"accessibility\">\\r\\n\\t\\t\\t\\t<a href=\"#oscn-content\">Skip to Main Content</a>\\r\\n\\t\\t\\t\\t<a href=\"/v4/accessibility/\">Accessibility Statement</a>\\r\\n\\t\\t\\t</div>\\r\\n\\t\\t\\t<div class=\"navigation-tophat\">\\r\\n\\t\\t\\t\\t<div class=\"sized\">\\r\\n\\t\\t\\t\\t\\t<div class=\"left\">\\r\\n\\t\\t\\t\\t\\t\\t<ul>\\r\\n\\t\\t\\t\\t\\t\\t\\t<li><a href=\"http://www.oscn.net/applications/oscn/SimpleHelp.asp?HelpContextID=\">Help</a></li>\\r\\n\\t\\t\\t\\t\\t\\t\\t<li><a href=\"http://www.oscn.net/applications/oscn/SimpleHelp.asp?HelpContextID=84\">Contact Us</a></li>\\r\\n\\t\\t\\t\\t\\t\\t</ul>\\r\\n\\t\\t\\t\\t\\t</div>\\r\\n\\t\\t\\t\\t\\t<div class=\"right\">\\r\\n\\t\\t\\t\\t\\t\\t<ul>\\r\\n\\t\\t\\t\\t\\t\\t\\t<!--<li><a href=\"\">e-filing</a></li>-->\\r\\n\\t\\t\\t\\t\\t\\t\\t<li><a href=\"https://pay.oscn.net/epayments/\">e-payments</a></li>\\r\\n\\t\\t\\t\\t\\t\\t\\t<li><a href=\"/jobs/\">Careers</a></li>\\r\\n\\t\\t\\t\\t\\t\\t\\t<!-- <li class=\"site-search no-border\">\\r\\n\\t\\t\\t\\t\\t\\t\\t\\t<form class=\"search-form\" method=\"get\" action=\"/search/search.aspx\">\\r\\n\\t\\t\\t\\t\\t\\t\\t\\t\\t<div class=\"search-container\">\\r\\n\\t\\t\\t\\t\\t\\t\\t\\t\\t<select class=\"template-dropdown\" style=\"display: none;\">\\r\\n\\t\\t\\t\\t\\t\\t\\t\\t\\t\\t<option class=\"template-option\"></option>\\r\\n\\t\\t\\t\\t\\t\\t\\t\\t\\t</select>\\t\\r\\n\\t\\t\\t\\t\\t\\t\\t\\t\\t<select class=\"search-dropdown\" name=\"t\">\\r\\n\\t\\t\\t\\t\\t\\t\\t\\t\\t\\t<optgroup label=\"Legal Research\">\\r\\n\\t\\t\\t\\t\\t\\t\\t\\t\\t\\t\\t<option value=\"citation\">By Citation (QuickCite)</option>\\r\\n\\t\\t\\t\\t\\t\\t\\t\\t\\t\\t\\t<option value=\"judge\">By Judge</option>\\r\\n\\t\\t\\t\\t\\t\\t\\t\\t\\t\\t\\t<option value=\"caselaw\">Case Law (full-text)</option>\\r\\n\\t\\t\\t\\t\\t\\t\\t\\t\\t\\t\\t<option value=\"statutes\">Statutes &amp; Rules (full-text)</option>\\r\\n\\t\\t\\t\\t\\t\\t\\t\\t\\t\\t\\t<option value=\"library\">All Oklahoma Materials (full-text)</option>\\r\\n\\t\\t\\t\\t\\t\\t\\t\\t\\t\\t</optgroup>\\r\\n\\t\\t\\t\\t\\t\\t\\t\\t\\t\\t<optgroup label=\"Court Records\">\\r\\n\\t\\t\\t\\t\\t\\t\\t\\t\\t\\t\\t<option selected=\"selected\" value=\"party\">By Party Name</option>\\r\\n\\t\\t\\t\\t\\t\\t\\t\\t\\t\\t\\t<option value=\"business\">By Business Name</option>\\r\\n\\t\\t\\t\\t\\t\\t\\t\\t\\t\\t\\t<option value=\"casenumber\">By Case Number</option>\\r\\n\\t\\t\\t\\t\\t\\t\\t\\t\\t\\t\\t<option value=\"traffic\">By Traffic Citation</option>\\r\\n\\t\\t\\t\\t\\t\\t\\t\\t\\t\\t</optgroup>\\t\\t\\t\\t\\t\\t\\t\\t\\t\\t\\t\\r\\n\\t\\t\\t\\t\\t\\t\\t\\t\\t</select></div><!--\\r\\n\\t\\t\\t\\t\\t\\t\\t\\t\\t<input class=\"search-input\" type=\"text\" value=\"Search\" name=\"q\"></input><!-- \\r\\n\\t\\t\\t\\t\\t\\t\\t\\t\\t<button class=\"search-button\" type=\"submit\" value=\"Go!\"></button>\\r\\n\\t\\t\\t\\t\\t\\t\\t\\t</form>\\r\\n\\t\\t\\t\\t\\t\\t\\t</li>-->\\r\\n\\t\\t\\t\\t\\t\\t</ul>\\r\\n\\t\\t\\t\\t\\t</div>\\r\\n\\t\\t\\t\\t</div>\\r\\n\\t\\t\\t</div>\\r\\n\\t\\t\\t<div class=\"navigation-spectacles sized\">\\r\\n\\t\\t\\t\\t<div class=\"navigation-utility\">\\r\\n\\t\\t\\t\\t\\t<div class=\"brand\"><a href=\"/\"><img id=\"logo\" class=\"screen-logo\" alt=\"OSCN\" src=\"/assets/img/logo.jpg\" /><img class=\"print-logo\" alt=\"\" src=\"/assets/img/logo-bw.jpg\" /></a></div>\\r\\n\\t\\t\\t\\t\\t<div class=\"toggle\" style=\"display: none;\"><button type=\"button\" data-toggle=\"navigation\"><span class=\"sr-only\">toggle navigation</span></button></div>\\r\\n\\t\\t\\t\\t</div>\\r\\n\\t\\t\\t\\t<nav>\\r\\n\\t\\t\\t\\t\\t<ol class=\"nav-menu\">\\r\\n\\t\\t\\t\\t\\t\\t<li class=\"nav-item\" id=\"home\"><a href=\"/v4/\">Home</a></li>\\r\\n\\t\\t\\t\\t\\t\\t<li class=\"nav-item\" id=\"courts_menu\"><a href=\"/courts/\">Courts</a></li>\\r\\n\\t\\t\\t\\t\\t\\t<li class=\"nav-item\" id=\"decisions\"><a href=\"/decisions/\">Decisions</a></li>\\r\\n\\t\\t\\t\\t\\t\\t<li class=\"nav-item\" id=\"programs\"><a href=\"/v4/programs/\">Programs</a></li>\\r\\n\\t\\t\\t\\t\\t\\t<li class=\"nav-item\" id=\"news\"><a href=\"/news/\">News</a></li>\\r\\n\\t\\t\\t\\t\\t\\t<li class=\"nav-item\" id=\"legal-research\"><a href=\"http://www.oscn.net/applications/oscn/start.asp?viewType=LIBRARY\">Legal Research</a></li>\\r\\n\\t\\t\\t\\t\\t\\t<li class=\"nav-item\" id=\"court-records\"><a href=\"/dockets/\">Court Records</a></li>\\r\\n\\t\\t\\t\\t\\t\\t<li class=\"nav-item\" id=\"quick-links\"><a href=\"/v4/quicklinks/\">Quick Links</a></li>\\r\\n\\t\\t\\t\\t\\t</ol>\\r\\n\\t\\t\\t\\t</nav>\\r\\n\\t\\t\\t</div>\\r\\n\\t\\t</div>\\t\\t\\n<div id=\"oscn-content\"><div class=\"sized\">\\r\\n  <style>\\n        td, th { padding: 2px 5px; }\\n        h2.styletop {\\n        text-align: left;\\n        background: #033c60;\\n        color: white;\\n        margin: 0;\\n        padding: 6px;\\n        font-size: 18px;\\n        text-transform: uppercase;\\n        font-weight: bold;\\n        }\\n        span.styletop { display: block; text-align: center; }\\n\\n        .section {\\n        text-transform: uppercase;\\n        color: #033c60;\\n        padding: 2px 5px;\\n        background-color: #f7f7f7;\\n        border-top: 1px #e1e1e1 solid;\\n        border-bottom: 1px #e1e1e1 solid;\\n        font-size: 22px;\\n        text-align: left;\\n        }\\n\\n        .partyCounts thead th { text-decoration: underline; }\\n        .paddedContainer { width: 75px; }\\n        .partyName, .dispositionInformation, .CountDescription { padding: 2px 5px; }\\n        .CountNumber { width: 75px; }\\n        .CountNumber, .partyName, .dispositionInformation, .CountDescription { vertical-align: top; }\\n\\n        p { margin: 0; padding: 0; }\\n        table th { text-align: left; }\\n        table { margin-bottom: 10px; width: 100%; border-collapse: collapse; }\\n\\n        .caseStyle {  }\\n        .caseStyle td { border: 1px solid #e1e1e1; padding: 5px 10px; }\\n\\n        .docketRow td { padding: 5px 2px; border-top: thin solid #e1e1e1; border-bottom: thin solid #e1e1e1;}\\n\\n        .evenRow { background-color: #f7f7f7;}\\n        .oddRow { background-color: white; }\\n\\n        .multipleRecords {\\n        width: 100%;\\n        position: relative;\\n        margin-top: 2em;\\n        margin-bottom: 2em;\\n        }\\n        .multipleRecords caption {\\n        text-align: left;\\n        font-weight: bold;\\n        position: relative;\\n        background: #033c60;\\n        color: white;\\n        margin: 0;\\n        padding: 6px;\\n        font-size: 18px;\\n        text-transform: uppercase;\\n        position: relative;\\n        }\\n        .foundRecords {\\n        position: absolute;\\n        right: 5px; font-size: 14px;\\n        }\\n        .multipleRecords thead th {\\n        font-size: 13px;\\n        text-align: left;\\n        padding: 4px 3px;\\n        vertical-align: top;\\n        background-color: #f7f7f7;\\n        }\\n        .tablerow { border-top: thin solid #e1e1e1; }\\n        .tablerow td { font-size: 11px; padding: 4px 3px; color: #033c60; vertical-align: top;}\\n\\n        \\n        #rev, .revLabel { display: inline; margin: 0; }\\n\\n        .heading3 {\\n        text-transform: uppercase;\\n        color: #033c60;\\n        padding: 2px 5px;\\n        background-color: #f7f7f7;\\n        border-top: 1px #e1e1e1 solid;\\n        border-bottom: 1px #e1e1e1 solid;\\n        font-size: 22px;\\n        text-align: center;\\n        margin-top: 2em;\\n        }\\n\\n        table { margin: 0 auto 0 auto; }\\n        .casetype { width: 50%; }\\n        .casetype caption {\\n        text-align: center;\\n        color: #033c60;\\n        margin: 0;\\n        padding: 10px 5px;\\n        font-size: 18px;\\n        text-transform: uppercase;\\n        font-weight: bold;\\n        }\\n        .casetype th {\\n        font-size: 13px;\\n        text-align: left;\\n        padding: 4px 3px;\\n        vertical-align: top;\\n        background-color: #f7f7f7;\\n        border-top: 1px #e1e1e1 solid;\\n        border-bottom: 1px #e1e1e1 solid;\\n        }\\n        .casetype tr {\\n        border-top: 1px #e1e1e1 solid;\\n        border-bottom: 1px #e1e1e1 solid;\\n        }\\n        .casetype td { padding: 3px 4px; }\\n        .casenoformat { width: 350px; }\\n        .casenoformat tbody tr td { text-align: center; }\\n        table caption { }\\n        .casetype { min-width: 250px; }\\n        form label { font: bold 11pt arial; }\\n        .padding { height: 2em; }\\n      </style>\\r\\n  <style>\\n\\t\\ttd, th {\\n\\t\\t\\tpadding: 2px 5px;\\n\\t\\t}\\n\\t\\th2.styletop {\\n\\t\\t\\ttext-align: left;\\n\\t\\t\\tbackground: #033c60;\\n\\t\\t\\tcolor: white;\\n\\t\\t\\tmargin: 0;\\n\\t\\t\\tpadding: 6px;\\n\\t\\t\\tfont-size: 18px;\\n\\t\\t\\ttext-transform: uppercase;\\n\\t\\t\\tfont-weight: bold;\\t\\n\\t\\t}\\n\\t\\tspan.styletop { display: block; text-align: center; }\\n\\n\\t\\t.section { \\n\\t\\t\\ttext-transform: uppercase; \\n\\t\\t\\tcolor: #033c60;  \\n\\t\\t\\tpadding: 2px 5px;\\n\\t\\t\\tbackground-color: #f7f7f7;\\n\\t\\t\\tborder-top: 1px #e1e1e1 solid;\\n\\t\\t\\tborder-bottom: 1px #e1e1e1 solid;\\n\\t\\t\\tfont-size: 22px;\\n\\t\\t\\ttext-align: left;\\n\\t\\t}\\n\\n\\t\\t.partyCounts thead th {\\n\\t\\t\\ttext-decoration: underline;\\n\\t\\t}\\n\\t\\t.paddedContainer {\\n\\t\\t\\twidth: 75px;\\n\\t\\t}\\n\\t\\t.partyName, .dispositionInformation, .CountDescription {\\n\\t\\t\\tpadding: 2px 5px;\\n\\t\\t}\\n\\t\\t.CountNumber {\\n\\t\\t\\twidth: 75px;\\n\\t\\t}\\n\\t\\t\\n\\t\\t.CountNumber, .partyName, .dispositionInformation, .CountDescription {\\n\\t\\t\\tvertical-align: top;\\n\\t\\t}\\n\\t\\t\\n\\t\\tp { margin: 0; padding: 0; }\\n\\t\\ttable th { text-align: left; }\\n\\t\\ttable { margin-bottom: 10px; width: 100%; border-collapse: collapse; }\\n\\n\\t\\t.caseStyle {  }\\n\\t\\t.caseStyle td { border: 1px solid #e1e1e1; padding: 5px 10px; }\\n\\n\\t\\t.docketRow td { padding: 5px 2px; border-top: thin solid #e1e1e1; border-bottom: thin solid #e1e1e1;}\\n\\n\\t\\t.evenRow { background-color: #f7f7f7;}\\n\\t\\t.oddRow { background-color: white; }\\t\\n    </style>\\r\\n  <p class=\"notice\">The information on this page is NOT an official \\r\\n            record. Do not rely on the correctness or completeness of this \\r\\n            information. Verify all information with the <a href=\"\\n    /courts/tulsa\">official record \\r\\n            keeper</a>. The information contained in this report is provided in \\r\\n            compliance with the Oklahoma Open Records Act, \\r\\n            <a href=\"http://www.oscn.net/applications/oscn/deliverdocument.asp?citeid=80288\">51 O.S. 24A.1</a>. \\r\\n            Use of this information is governed by this act, as well as other \\r\\n            applicable state and federal laws.\\r\\n          </p>\\r\\n  <h2 class=\"styletop\"><span class=\"styletop\">In the District Court in and for <a style=\"color: white; text-decoration: underline;\" href=\"\\n    /courts/tulsa\">tulsa&nbsp;County</a>, Oklahoma</span></h2>\\r\\n  <table class=\"caseStyle\" cellspacing=\"0\" cellpadding=\"0\" border=\"0\" width=\"100%\">\\r\\n    <tr>\\r\\n      <td valign=\"center\" width=\"50%\">Jeffrey Lee Wheeler,<br />\\r\\n\\xa0 \\xa0 \\xa0 \\xa0 \\xa0 Plaintiff,<br />\\r\\nv.<br />\\r\\nThomas Schubert,<br />\\r\\n\\xa0 \\xa0 \\xa0 \\xa0 \\xa0 Defendant.</td>\\r\\n      <td width=\"50%\"><strong>\\r\\n              No. SC-2019-3899<br>\\r\\n              (Small Claims: FORCIBLE ENTRY & DETAINER <$5000.00.)\\r\\n            </strong><br><br>\\r\\n            Filed: 03/08/2019<br>Closed: 03/18/2019<br><br>Judge: Small Claims Judge<br></td>\\r\\n    </tr>\\r\\n  </table>\\r\\n  <h2 class=\"section party\">Parties</h2>\\r\\n  <p>Schubert,&nbsp; Thomas,\\r\\nDefendant<br>Wheeler,&nbsp; Jeffrey&nbsp; Lee,\\r\\nPlaintiff<br> &nbsp;\\r\\n          </p>\\r\\n  <h2 class=\"section attorneys\">Attorneys</h2>\\r\\n  <table width=\"100%\">\\r\\n    <thead>\\r\\n      <tr>\\r\\n        <th align=\"left\">Attorney</th>\\r\\n        <th align=\"left\">Represented Parties</th>\\r\\n      </tr>\\r\\n    </thead>\\r\\n    <tbody>\\r\\n      <tr>\\r\\n        <td valign=\"top\" width=\"50%\">MILNER,&nbsp; NATHAN&nbsp; M.&nbsp;(Bar #30176)<br>624 S DENVER AVE STE 300<br>TULSA, OK&nbsp;74119<br>&nbsp;\\r\\n                        </td>\\r\\n        <td valign=\"top\" width=\"50%\">Wheeler, &nbsp; Jeffrey&nbsp; Lee<br></td>\\r\\n      </tr>\\r\\n    </tbody>\\r\\n  </table>\\r\\n  <h2 class=\"section events\">Events</h2>\\r\\n  <table width=\"100%\">\\r\\n    <thead>\\r\\n      <tr>\\r\\n        <th>Event</th>\\r\\n        <th>Party</th>\\r\\n        <th>Docket</th>\\r\\n        <th>Reporter</th>\\r\\n      </tr>\\r\\n    </thead>\\r\\n    <tbody>\\r\\n      <tr>\\r\\n        <td>\\r\\n          <font color=\"green\">Monday, March 18, 2019 at 2:00 PM</font><br>\\xa0\\xa0\\xa0HEARING<!--\\r\\n                          (HEA)\\r\\n                        --></td>\\r\\n        <td>&nbsp; </td>\\r\\n        <td>Deborrah Ludi Leitch</td>\\r\\n        <td>\\r\\n        </td>\\r\\n      </tr>\\r\\n    </tbody>\\r\\n  </table>\\r\\n  <h2 class=\"section issues\">Issues</h2>\\r\\n  <p>\\r\\n    <font size=\"1\">For cases filed before 1/1/2000, ancillary issues may not appear except in the docket.</font><br>&nbsp;</p>\\r\\n  <table>\\r\\n    <tr>\\r\\n      <td valign=\"top\" width=\"100px\"><strong>Issue # 1.</strong></td>\\r\\n      <td>\\r\\n                          Issue: FORCIBLE ENTRY & DETAINER <$5000.00.\\r\\n                            (SCFED1)\\r\\n                          <br>Filed By: Wheeler, Jeffrey Lee<br>Filed Date: 03/08/2019<br></td>\\r\\n    </tr>\\r\\n  </table>\\r\\n  <table>\\r\\n    <thead>\\r\\n      <tr>\\r\\n        <th class=\"paddedContainer\"></th>\\r\\n        <th class=\"partyName\">Party Name</th>\\r\\n        <th class=\"dispositionInformation\">Disposition Information</th>\\r\\n      </tr>\\r\\n    </thead>\\r\\n    <tbody>\\r\\n      <tr>\\r\\n        <td width=\"100px\"></td>\\r\\n        <td width=\"20%\" valign=\"top\"><strong><u>Defendant:</u></strong>&nbsp;\\r\\n                <nobr>Schubert, Thomas</nobr></td>\\r\\n        <td valign=\"top\">\\r\\n          <font color=\"red\"><strong>\\r\\n                        Disposed:  DEFAULT JUDGEMENT,\\r\\n                        03/18/2019.\\r\\n                        Default Judgment</strong></font>\\r\\n        </td>\\r\\n      </tr>\\r\\n    </tbody>\\r\\n  </table>\\r\\n  <h2 class=\"section dockets\">Docket</h2>\\r\\n  <table class=\"docketlist\" cellpadding=\"2\" cellspacing=\"2\" border=\"0\">\\r\\n    <thead>\\r\\n      <tr>\\r\\n        <th>Date</th>\\r\\n        <th>Code</th>\\r\\n        <th>Description</th>\\r\\n        <th>Count</th>\\r\\n        <th>Party</th>\\r\\n        <th>Amount</th>\\r\\n      </tr>\\r\\n    </thead>\\r\\n    <tbody>\\r\\n      <tr class=\"docketRow oddRow\">\\r\\n        <td valign=\"top\">\\r\\n          <font color=\"black\"><nobr>03-08-2019&nbsp;</nobr></font>\\r\\n        </td>\\r\\n        <td valign=\"top\">\\r\\n          <font color=\"black\"><nobr>TEXT</nobr></font>\\r\\n        </td>\\r\\n        <td valign=\"top\">\\r\\n          <p>\\r\\n            <font color=\"black\">SMALL CLAIMS INITIAL FILING.</font>\\r\\n          </p>\\r\\n        </td>\\r\\n        <td align=\"center\" valign=\"top\">1&nbsp;&nbsp;\\r\\n                    </td>\\r\\n        <td valign=\"top\"></td>\\r\\n        <td valign=\"top\" align=\"right\"></td>\\r\\n      </tr>\\r\\n      <tr class=\"docketRow evenRow\">\\r\\n        <td valign=\"top\">\\r\\n          <font color=\"000000\"><nobr>03-08-2019&nbsp;</nobr></font>\\r\\n        </td>\\r\\n        <td valign=\"top\">\\r\\n          <font color=\"000000\"><nobr>SCFED1</nobr></font>\\r\\n        </td>\\r\\n        <td valign=\"top\">\\r\\n          <p>\\r\\n            <font color=\"000000\">FORCIBLE ENTRY & DETAINER <$5000.00.</font>\\r\\n          </p>\\r\\n        </td>\\r\\n        <td align=\"center\" valign=\"top\"></td>\\r\\n        <td valign=\"top\"></td>\\r\\n        <td valign=\"top\" align=\"right\"></td>\\r\\n      </tr>\\r\\n      <tr class=\"docketRow oddRow\">\\r\\n        <td valign=\"top\">\\r\\n          <font color=\"GREEN\"><nobr>03-08-2019&nbsp;</nobr></font>\\r\\n        </td>\\r\\n        <td valign=\"top\">\\r\\n          <font color=\"GREEN\"><nobr>AFDC1</nobr></font>\\r\\n        </td>\\r\\n        <td valign=\"top\">\\r\\n          <p>\\r\\n            <font color=\"GREEN\">AFFIDAVIT</font>\\r\\n          </p>\\r\\n        </td>\\r\\n        <td align=\"center\" valign=\"top\"></td>\\r\\n        <td valign=\"top\"></td>\\r\\n        <td valign=\"top\" align=\"right\">\\r\\n          <font color=\"green\">$ 45.00</font>\\r\\n        </td>\\r\\n      </tr>\\r\\n      <tr class=\"docketRow evenRow\">\\r\\n        <td valign=\"top\">\\r\\n          <font color=\"GREEN\"><nobr>03-08-2019&nbsp;</nobr></font>\\r\\n        </td>\\r\\n        <td valign=\"top\">\\r\\n          <font color=\"GREEN\"><nobr>DMFE</nobr></font>\\r\\n        </td>\\r\\n        <td valign=\"top\">\\r\\n          <p>\\r\\n            <font color=\"GREEN\">DISPUTE MEDIATION FEE</font>\\r\\n          </p>\\r\\n        </td>\\r\\n        <td align=\"center\" valign=\"top\"></td>\\r\\n        <td valign=\"top\"></td>\\r\\n        <td valign=\"top\" align=\"right\">\\r\\n          <font color=\"green\">$ 7.00</font>\\r\\n        </td>\\r\\n      </tr>\\r\\n      <tr class=\"docketRow oddRow\">\\r\\n        <td valign=\"top\">\\r\\n          <font color=\"GREEN\"><nobr>03-08-2019&nbsp;</nobr></font>\\r\\n        </td>\\r\\n        <td valign=\"top\">\\r\\n          <font color=\"GREEN\"><nobr>PFE7</nobr></font>\\r\\n        </td>\\r\\n        <td valign=\"top\">\\r\\n          <p>\\r\\n            <font color=\"GREEN\">LAW LIBRARY FEE</font>\\r\\n          </p>\\r\\n        </td>\\r\\n        <td align=\"center\" valign=\"top\"></td>\\r\\n        <td valign=\"top\"></td>\\r\\n        <td valign=\"top\" align=\"right\">\\r\\n          <font color=\"green\">$ 6.00</font>\\r\\n        </td>\\r\\n      </tr>\\r\\n      <tr class=\"docketRow evenRow\">\\r\\n        <td valign=\"top\">\\r\\n          <font color=\"BLACK\"><nobr>03-08-2019&nbsp;</nobr></font>\\r\\n        </td>\\r\\n        <td valign=\"top\">\\r\\n          <font color=\"BLACK\"><nobr>A/</nobr></font>\\r\\n        </td>\\r\\n        <td valign=\"top\">\\r\\n          <p>\\r\\n            <font color=\"BLACK\">AMOUNT IN DEBT OF <..$..> $2640.00</font>\\r\\n          </p>\\r\\n        </td>\\r\\n        <td align=\"center\" valign=\"top\"></td>\\r\\n        <td valign=\"top\"></td>\\r\\n        <td valign=\"top\" align=\"right\"></td>\\r\\n      </tr>\\r\\n      <tr class=\"docketRow oddRow\">\\r\\n        <td valign=\"top\">\\r\\n          <font color=\"black\"><nobr>03-08-2019&nbsp;</nobr></font>\\r\\n        </td>\\r\\n        <td valign=\"top\">\\r\\n          <font color=\"black\"><nobr>TEXT</nobr></font>\\r\\n        </td>\\r\\n        <td valign=\"top\">\\r\\n          <p>\\r\\n            <font color=\"black\">OCIS HAS AUTOMATICALLY ASSIGNED JUDGE SMALL CLAIMS JUDGE TO THIS CASE.</font>\\r\\n          </p>\\r\\n        </td>\\r\\n        <td align=\"center\" valign=\"top\"></td>\\r\\n        <td valign=\"top\"></td>\\r\\n        <td valign=\"top\" align=\"right\"></td>\\r\\n      </tr>\\r\\n      <tr class=\"docketRow evenRow\">\\r\\n        <td valign=\"top\">\\r\\n          <font color=\"000000\"><nobr>03-08-2019&nbsp;</nobr></font>\\r\\n        </td>\\r\\n        <td valign=\"top\">\\r\\n          <font color=\"000000\"><nobr>ACCOUNT</nobr></font>\\r\\n        </td>\\r\\n        <td valign=\"top\">\\r\\n          <p>\\r\\n            <font color=\"000000\">RECEIPT # 2019-3906302 ON 03/08/2019. <BR />\\r\\n PAYOR: LAW OFFICE OF NATHAN M. MILNER PLLC TOTAL AMOUNT PAID: $ 58.00.<BR />\\r\\n LINE ITEMS:<BR />\\r\\n SC-2019-3899: $45.00 ON AC01 CLERK FEES.<BR />\\r\\n SC-2019-3899: $6.00 ON AC23 LAW LIBRARY FEE CIVIL AND CRIMINAL.<BR />\\r\\n SC-2019-3899: $7.00 ON AC64 DISPUTE MEDIATION FEES CIVIL ONLY.<BR /></font>\\r\\n          </p>\\r\\n        </td>\\r\\n        <td align=\"center\" valign=\"top\"></td>\\r\\n        <td valign=\"top\"></td>\\r\\n        <td valign=\"top\" align=\"right\"></td>\\r\\n      </tr>\\r\\n      <tr class=\"docketRow oddRow\">\\r\\n        <td valign=\"top\">\\r\\n          <font color=\"GREEN\"><nobr>03-13-2019&nbsp;</nobr></font>\\r\\n        </td>\\r\\n        <td valign=\"top\">\\r\\n          <font color=\"GREEN\"><nobr>SMIM</nobr></font>\\r\\n        </td>\\r\\n        <td valign=\"top\">\\r\\n          <p>\\r\\n            <font color=\"GREEN\">SUMMONS ISSUED - MAIL</font>\\r\\n          </p>\\r\\n        </td>\\r\\n        <td align=\"center\" valign=\"top\"></td>\\r\\n        <td valign=\"top\"></td>\\r\\n        <td valign=\"top\" align=\"right\">\\r\\n          <font color=\"green\">$ 10.00</font>\\r\\n        </td>\\r\\n      </tr>\\r\\n      <tr class=\"docketRow evenRow\">\\r\\n        <td valign=\"top\">\\r\\n          <font color=\"Black\"><nobr>03-13-2019&nbsp;</nobr></font>\\r\\n        </td>\\r\\n        <td valign=\"top\">\\r\\n          <font color=\"Black\"><nobr>FEDS</nobr></font>\\r\\n        </td>\\r\\n        <td valign=\"top\">\\r\\n          <p>\\r\\n            <font color=\"Black\">FORCIBLE ENTRY AND DETAINER SERVED - POSTED TO DOOR 03-12-19</font>\\r\\n          </p>\\r\\n          <p><span style=\"text-decoration: italic;\">\\r\\n                                Document Available (#1043149463)\\r\\n                                <nobr><img src=\"http://www.oscn.net/images/applications/OCISShell/document.gif\" border=\"0\" alt=\"Download document in TIFF format.\"><a href=\"GetDocument.aspx?ct=tulsa&cn=SC-2019-3899&bc=1043149463&fmt=tif\" target=\"_blank\" title=\"Download document in TIFF format.\">TIFF</a></nobr>\\r\\n                                &nbsp;&nbsp;\\r\\n                                <nobr><img src=\"http://www.oscn.net/assets/img/pdf-icon-15x15.png\" border=\"0\" alt=\"Download document in PDF format.\"><a href=\"GetDocument.aspx?ct=tulsa&bc=1043149463&cn=SC-2019-3899&fmt=pdf\" target=\"_blank\" title=\"Download document in PDF format.\">PDF</a></nobr></span></p>\\r\\n        </td>\\r\\n        <td align=\"center\" valign=\"top\"></td>\\r\\n        <td valign=\"top\"></td>\\r\\n        <td valign=\"top\" align=\"right\"></td>\\r\\n      </tr>\\r\\n      <tr class=\"docketRow oddRow\">\\r\\n        <td valign=\"top\">\\r\\n          <font color=\"1\"><nobr>03-13-2019&nbsp;</nobr></font>\\r\\n        </td>\\r\\n        <td valign=\"top\">\\r\\n          <font color=\"1\"><nobr>SMM</nobr></font>\\r\\n        </td>\\r\\n        <td valign=\"top\">\\r\\n          <p>\\r\\n            <font color=\"1\">SUMMONS MAILED TO THOMAS SHUBERT</font>\\r\\n          </p>\\r\\n          <p><span style=\"text-decoration: italic;\">\\r\\n                                Document Available (#1043291732)\\r\\n                                <nobr><img src=\"http://www.oscn.net/images/applications/OCISShell/document.gif\" border=\"0\" alt=\"Download document in TIFF format.\"><a href=\"GetDocument.aspx?ct=tulsa&cn=SC-2019-3899&bc=1043291732&fmt=tif\" target=\"_blank\" title=\"Download document in TIFF format.\">TIFF</a></nobr>\\r\\n                                &nbsp;&nbsp;\\r\\n                                <nobr><img src=\"http://www.oscn.net/assets/img/pdf-icon-15x15.png\" border=\"0\" alt=\"Download document in PDF format.\"><a href=\"GetDocument.aspx?ct=tulsa&bc=1043291732&cn=SC-2019-3899&fmt=pdf\" target=\"_blank\" title=\"Download document in PDF format.\">PDF</a></nobr></span></p>\\r\\n        </td>\\r\\n        <td align=\"center\" valign=\"top\"></td>\\r\\n        <td valign=\"top\"></td>\\r\\n        <td valign=\"top\" align=\"right\"></td>\\r\\n      </tr>\\r\\n      <tr class=\"docketRow evenRow\">\\r\\n        <td valign=\"top\">\\r\\n          <font color=\"BLACK\"><nobr>03-13-2019&nbsp;</nobr></font>\\r\\n        </td>\\r\\n        <td valign=\"top\">\\r\\n          <font color=\"BLACK\"><nobr>ADJUST</nobr></font>\\r\\n        </td>\\r\\n        <td valign=\"top\">\\r\\n          <p>\\r\\n            <font color=\"BLACK\">ADJUSTING ENTRY: MONIES DUE TO AC09-CARD ALLOCATION</font>\\r\\n          </p>\\r\\n        </td>\\r\\n        <td align=\"center\" valign=\"top\"></td>\\r\\n        <td valign=\"top\"></td>\\r\\n        <td valign=\"top\" align=\"right\">\\r\\n          <font color=\"green\">$ 0.25</font>\\r\\n        </td>\\r\\n      </tr>\\r\\n      <tr class=\"docketRow oddRow\">\\r\\n        <td valign=\"top\">\\r\\n          <font color=\"000000\"><nobr>03-13-2019&nbsp;</nobr></font>\\r\\n        </td>\\r\\n        <td valign=\"top\">\\r\\n          <font color=\"000000\"><nobr>ACCOUNT</nobr></font>\\r\\n        </td>\\r\\n        <td valign=\"top\">\\r\\n          <p>\\r\\n            <font color=\"000000\">ADJUSTING ENTRY: MONIES DUE TO THE FOLLOWING AGENCIES REDUCED BY THE FOLLOWING AMOUNTS:<BR>SC-2019-3899: AC01 CLERK FEES -$0.25<BR></font>\\r\\n          </p>\\r\\n        </td>\\r\\n        <td align=\"center\" valign=\"top\"></td>\\r\\n        <td valign=\"top\"></td>\\r\\n        <td valign=\"top\" align=\"right\"></td>\\r\\n      </tr>\\r\\n      <tr class=\"docketRow evenRow\">\\r\\n        <td valign=\"top\">\\r\\n          <font color=\"000000\"><nobr>03-13-2019&nbsp;</nobr></font>\\r\\n        </td>\\r\\n        <td valign=\"top\">\\r\\n          <font color=\"000000\"><nobr>ACCOUNT</nobr></font>\\r\\n        </td>\\r\\n        <td valign=\"top\">\\r\\n          <p>\\r\\n            <font color=\"000000\">RECEIPT # 2019-3908812 ON 03/13/2019. <BR />\\r\\n PAYOR: BUCKNER/ELLEN TOTAL AMOUNT PAID: $ 10.00.<BR />\\r\\n LINE ITEMS:<BR />\\r\\n SC-2019-3899: $9.75 ON AC01 CLERK FEES.<BR />\\r\\n SC-2019-3899: $0.25 ON AC09 CARD ALLOCATIONS.<BR /></font>\\r\\n          </p>\\r\\n        </td>\\r\\n        <td align=\"center\" valign=\"top\"></td>\\r\\n        <td valign=\"top\"></td>\\r\\n        <td valign=\"top\" align=\"right\"></td>\\r\\n      </tr>\\r\\n      <tr class=\"docketRow oddRow\">\\r\\n        <td valign=\"top\">\\r\\n          <font color=\"8B0000C\"><nobr>03-18-2019&nbsp;</nobr></font>\\r\\n        </td>\\r\\n        <td valign=\"top\">\\r\\n          <font color=\"8B0000C\"><nobr>DISPCVDJ</nobr></font>\\r\\n        </td>\\r\\n        <td valign=\"top\">\\r\\n          <p>\\r\\n            <font color=\"8B0000C\">SMITH, SARAH DAY FOR LUDI LEITCH, DEBORRAH: PLAINTIFF APPEARED. DEFENDANT APPEARED NOT AFTER VALID SERVICE. DEFAULT JUDGMENT GRANTED TO THE PLAINTIFF AS FOLLOWS:  (1) POSSESSION OF THE PREMISES. JUDGE SIGNED FINAL J.E. --- PRINCIPAL JUDGMENT AMOUNT = POSSESSION ONLY</font>\\r\\n          </p>\\r\\n        </td>\\r\\n        <td align=\"center\" valign=\"top\">1&nbsp;&nbsp;\\r\\n                    </td>\\r\\n        <td valign=\"top\">Schubert, Thomas</td>\\r\\n        <td valign=\"top\" align=\"right\"></td>\\r\\n      </tr>\\r\\n      <tr class=\"docketRow evenRow\">\\r\\n        <td valign=\"top\">\\r\\n          <font color=\"1\"><nobr>03-19-2019&nbsp;</nobr></font>\\r\\n        </td>\\r\\n        <td valign=\"top\">\\r\\n          <font color=\"1\"><nobr>JEJ</nobr></font>\\r\\n        </td>\\r\\n        <td valign=\"top\">\\r\\n          <p>\\r\\n            <font color=\"1\">JOURNAL ENTRY OF JUDGMENT</font>\\r\\n          </p>\\r\\n          <p><span style=\"text-decoration: italic;\">\\r\\n                                Document Available (#1043106180)\\r\\n                                <nobr><img src=\"http://www.oscn.net/images/applications/OCISShell/document.gif\" border=\"0\" alt=\"Download document in TIFF format.\"><a href=\"GetDocument.aspx?ct=tulsa&cn=SC-2019-3899&bc=1043106180&fmt=tif\" target=\"_blank\" title=\"Download document in TIFF format.\">TIFF</a></nobr>\\r\\n                                &nbsp;&nbsp;\\r\\n                                <nobr><img src=\"http://www.oscn.net/assets/img/pdf-icon-15x15.png\" border=\"0\" alt=\"Download document in PDF format.\"><a href=\"GetDocument.aspx?ct=tulsa&bc=1043106180&cn=SC-2019-3899&fmt=pdf\" target=\"_blank\" title=\"Download document in PDF format.\">PDF</a></nobr></span></p>\\r\\n        </td>\\r\\n        <td align=\"center\" valign=\"top\"></td>\\r\\n        <td valign=\"top\"></td>\\r\\n        <td valign=\"top\" align=\"right\"></td>\\r\\n      </tr>\\r\\n      <tr class=\"docketRow oddRow\">\\r\\n        <td valign=\"top\">\\r\\n          <font color=\"000000\"><nobr>04-10-2019&nbsp;</nobr></font>\\r\\n        </td>\\r\\n        <td valign=\"top\">\\r\\n          <font color=\"000000\"><nobr>EIF</nobr></font>\\r\\n        </td>\\r\\n        <td valign=\"top\">\\r\\n          <p>\\r\\n            <font color=\"000000\">EXECUTION INSTRUCTION FORM</font>\\r\\n          </p>\\r\\n          <p><span style=\"text-decoration: italic;\">\\r\\n                                Document Available (#1043468794)\\r\\n                                <nobr><img src=\"http://www.oscn.net/images/applications/OCISShell/document.gif\" border=\"0\" alt=\"Download document in TIFF format.\"><a href=\"GetDocument.aspx?ct=tulsa&cn=SC-2019-3899&bc=1043468794&fmt=tif\" target=\"_blank\" title=\"Download document in TIFF format.\">TIFF</a></nobr>\\r\\n                                &nbsp;&nbsp;\\r\\n                                <nobr><img src=\"http://www.oscn.net/assets/img/pdf-icon-15x15.png\" border=\"0\" alt=\"Download document in PDF format.\"><a href=\"GetDocument.aspx?ct=tulsa&bc=1043468794&cn=SC-2019-3899&fmt=pdf\" target=\"_blank\" title=\"Download document in PDF format.\">PDF</a></nobr></span></p>\\r\\n        </td>\\r\\n        <td align=\"center\" valign=\"top\"></td>\\r\\n        <td valign=\"top\"></td>\\r\\n        <td valign=\"top\" align=\"right\"></td>\\r\\n      </tr>\\r\\n      <tr class=\"docketRow evenRow\">\\r\\n        <td valign=\"top\">\\r\\n          <font color=\"green\"><nobr>04-10-2019&nbsp;</nobr></font>\\r\\n        </td>\\r\\n        <td valign=\"top\">\\r\\n          <font color=\"green\"><nobr>EIPJ</nobr></font>\\r\\n        </td>\\r\\n        <td valign=\"top\">\\r\\n          <p>\\r\\n            <font color=\"green\">EXECUTION ISSUED - POST JUDGMENT (SHERIFF FEE)</font>\\r\\n          </p>\\r\\n        </td>\\r\\n        <td align=\"center\" valign=\"top\"></td>\\r\\n        <td valign=\"top\"></td>\\r\\n        <td valign=\"top\" align=\"right\">\\r\\n          <font color=\"green\">$ 50.00</font>\\r\\n        </td>\\r\\n      </tr>\\r\\n      <tr class=\"docketRow oddRow\">\\r\\n        <td valign=\"top\">\\r\\n          <font color=\"000000\"><nobr>04-10-2019&nbsp;</nobr></font>\\r\\n        </td>\\r\\n        <td valign=\"top\">\\r\\n          <font color=\"000000\"><nobr>ACCOUNT</nobr></font>\\r\\n        </td>\\r\\n        <td valign=\"top\">\\r\\n          <p>\\r\\n            <font color=\"000000\">RECEIPT # 2019-3922557 ON 04/10/2019. <BR />\\r\\n PAYOR: WHEELER, JEFFREY L TOTAL AMOUNT PAID: $ 50.00.<BR />\\r\\n LINE ITEMS:<BR />\\r\\n SC-2019-3899: $50.00 ON AC08 SHERIFF FEES.<BR /></font>\\r\\n          </p>\\r\\n        </td>\\r\\n        <td align=\"center\" valign=\"top\"></td>\\r\\n        <td valign=\"top\"></td>\\r\\n        <td valign=\"top\" align=\"right\"></td>\\r\\n      </tr>\\r\\n      <tr class=\"docketRow evenRow\">\\r\\n        <td valign=\"top\">\\r\\n          <font color=\"black\"><nobr>04-11-2019&nbsp;</nobr></font>\\r\\n        </td>\\r\\n        <td valign=\"top\">\\r\\n          <font color=\"black\"><nobr>EX</nobr></font>\\r\\n        </td>\\r\\n        <td valign=\"top\">\\r\\n          <p>\\r\\n            <font color=\"black\">LUDI LEITCH, DEBORRAH: SHERIFF EXECUTION ISSUED (POST JUDGMENT)- SIGNED ORDER</font>\\r\\n          </p>\\r\\n          <p><span style=\"text-decoration: italic;\">\\r\\n                                Document Available (#1043468804)\\r\\n                                <nobr><img src=\"http://www.oscn.net/images/applications/OCISShell/document.gif\" border=\"0\" alt=\"Download document in TIFF format.\"><a href=\"GetDocument.aspx?ct=tulsa&cn=SC-2019-3899&bc=1043468804&fmt=tif\" target=\"_blank\" title=\"Download document in TIFF format.\">TIFF</a></nobr>\\r\\n                                &nbsp;&nbsp;\\r\\n                                <nobr><img src=\"http://www.oscn.net/assets/img/pdf-icon-15x15.png\" border=\"0\" alt=\"Download document in PDF format.\"><a href=\"GetDocument.aspx?ct=tulsa&bc=1043468804&cn=SC-2019-3899&fmt=pdf\" target=\"_blank\" title=\"Download document in PDF format.\">PDF</a></nobr></span></p>\\r\\n        </td>\\r\\n        <td align=\"center\" valign=\"top\"></td>\\r\\n        <td valign=\"top\"></td>\\r\\n        <td valign=\"top\" align=\"right\"></td>\\r\\n      </tr>\\r\\n      <tr class=\"docketRow oddRow\">\\r\\n        <td valign=\"top\">\\r\\n          <font color=\"1\"><nobr>04-15-2019&nbsp;</nobr></font>\\r\\n        </td>\\r\\n        <td valign=\"top\">\\r\\n          <font color=\"1\"><nobr>UCLET</nobr></font>\\r\\n        </td>\\r\\n        <td valign=\"top\">\\r\\n          <p>\\r\\n            <font color=\"1\">UNCLAIMED LETTER - THOMAS SCHUBERT</font>\\r\\n          </p>\\r\\n        </td>\\r\\n        <td align=\"center\" valign=\"top\"></td>\\r\\n        <td valign=\"top\"></td>\\r\\n        <td valign=\"top\" align=\"right\"></td>\\r\\n      </tr>\\r\\n      <tr class=\"docketRow evenRow\">\\r\\n        <td valign=\"top\">\\r\\n          <font color=\"green\"><nobr>04-22-2019&nbsp;</nobr></font>\\r\\n        </td>\\r\\n        <td valign=\"top\">\\r\\n          <font color=\"green\"><nobr>ER</nobr></font>\\r\\n        </td>\\r\\n        <td valign=\"top\">\\r\\n          <p>\\r\\n            <font color=\"green\">EXECUTION RETURNED  PER WRIT 4/17/19</font>\\r\\n          </p>\\r\\n          <p><span style=\"text-decoration: italic;\">\\r\\n                                Document Available (#1043545774)\\r\\n                                <nobr><img src=\"http://www.oscn.net/images/applications/OCISShell/document.gif\" border=\"0\" alt=\"Download document in TIFF format.\"><a href=\"GetDocument.aspx?ct=tulsa&cn=SC-2019-3899&bc=1043545774&fmt=tif\" target=\"_blank\" title=\"Download document in TIFF format.\">TIFF</a></nobr>\\r\\n                                &nbsp;&nbsp;\\r\\n                                <nobr><img src=\"http://www.oscn.net/assets/img/pdf-icon-15x15.png\" border=\"0\" alt=\"Download document in PDF format.\"><a href=\"GetDocument.aspx?ct=tulsa&bc=1043545774&cn=SC-2019-3899&fmt=pdf\" target=\"_blank\" title=\"Download document in PDF format.\">PDF</a></nobr></span></p>\\r\\n        </td>\\r\\n        <td align=\"center\" valign=\"top\"></td>\\r\\n        <td valign=\"top\"></td>\\r\\n        <td valign=\"top\" align=\"right\"></td>\\r\\n      </tr>\\r\\n    </tbody>\\r\\n  </table>\\r\\n</div></div>\\n<div class=\"footer\">\\r\\n\\t<div class=\"container-fluid sized\">\\r\\n\\t\\t<div class=\"row-fluid\">\\r\\n\\t\\t\\t<div class=\"contact-foot column span3\">\\r\\n\\t\\t\\t\\t<h6>oscn</h6>\\r\\n\\t\\t\\t\\t<p>\\r\\n\\t\\t\\t\\tEMAIL: <a href=\"mailto:webmaster@oscn.net\">webmaster@oscn.net</a><br />\\r\\n\\t\\t\\t\\tOklahoma Judicial Center<br />\\r\\n\\t\\t\\t\\t2100 N Lincoln Blvd.<br />\\r\\n\\t\\t\\t\\tOklahoma City, OK 73105</p>\\r\\n\\t\\t\\t</div>\\r\\n\\t\\t\\t<div class=\"courts-foot column span3\">\\r\\n\\t\\t\\t\\t<h6>courts</h6>\\r\\n\\t\\t\\t\\t<ul class=\"footer-list\">\\r\\n\\t\\t\\t\\t\\t<li><a href=\"http://www.oscn.net/oscn/schome/\">Supreme Court of Oklahoma</a></li>\\r\\n\\t\\t\\t\\t\\t<li><a href=\"http://www.okcca.net/\">Court of Criminal Appeals</a></li>\\t\\t\\t\\t\\t\\r\\n\\t\\t\\t\\t\\t<li><a class=\"pdf-link\" target=\"_blank\" href=\"http://www.oscn.net/static/osc-ojs-brochure-online.pdf\">Court of Civil Appeals</a></li>\\r\\n\\t\\t\\t\\t\\t<li><a href=\"http://www.oscn.net/applications/oscn/start.asp?viewType=COURTS\">District Courts</a></li>\\r\\n\\t\\t\\t\\t</ul>\\r\\n\\t\\t\\t</div>\\r\\n\\t\\t\\t<div class=\"decisions-foot column span3\">\\r\\n\\t\\t\\t\\t<h6>decisions</h6>\\r\\n\\t\\t\\t\\t<ul class=\"footer-list\">\\r\\n\\t\\t\\t\\t\\t<li><a href=\"/decisions/\">New Decisions</a></li>\\r\\n\\t\\t\\t\\t\\t<li><a href=\"http://www.oscn.net/applications/oscn/Index.asp?ftdb=STOKCSSC\">Supreme Court of Oklahoma</a></li>\\r\\n\\t\\t\\t\\t\\t<li><a href=\"http://www.oscn.net/applications/oscn/Index.asp?ftdb=STOKCSCR\">Court of Criminal Appeals</a></li>\\r\\n\\t\\t\\t\\t\\t<li><a href=\"http://www.oscn.net/applications/oscn/Index.asp?ftdb=STOKCSCV\">Court of Civil Appeals</a></li>\\r\\n\\t\\t\\t\\t</ul>\\t\\t\\t\\t\\t\\r\\n\\t\\t\\t</div>\\r\\n\\t\\t\\t<div class=\"programs-foot column span3\">\\r\\n\\t\\t\\t\\t<h6>programs</h6>\\r\\n\\t\\t\\t\\t<ul class=\"footer-list\">\\r\\n\\t\\t\\t\\t\\t<li><a href=\"http://www.thesovereigntysymposium.com/splash.aspx\">The Sovereignty Symposium</a></li>\\r\\n\\t\\t\\t\\t\\t<!--<li><a href=\"#\">Access to Justice</a></li>-->\\r\\n\\t\\t\\t\\t\\t<li><a href=\"http://www.oscn.net/static/adr/default.aspx\">Alternative Dispute Resolution</a></li>\\r\\n\\t\\t\\t\\t\\t<li><a href=\"http://www.oscn.net/static/adr/default.aspx\">Early Settlement Mediation</a></li>\\r\\n\\t\\t\\t\\t\\t<li><a href=\"http://www.oscn.net/Sites/CourtImprovement/default.aspx\">Children\\'s Court Improvement Program (CIP)</a></li>\\r\\n\\t\\t\\t\\t\\t<li><a href=\"/jnc/\">Judicial Nominating Commission</a></li>\\r\\n\\t\\t\\t\\t\\t<li><a href=\"http://www.oscn.net/static/forms/aoc_forms/interpreter.asp\">Certified Courtroom Interpreters</a></li>\\r\\n\\t\\t\\t\\t\\t<li><a href=\"http://www.oscn.net/static/forms/aoc_forms/csr.asp\">Certified Shorthand Reporters</a></li>\\r\\n\\t\\t\\t\\t\\t<li><a href=\"/pages/accessibility\">Accessibility ADA</a></li>\\r\\n\\t\\t\\t\\t</ul>\\t\\t\\t\\t\\t\\r\\n\\t\\t\\t</div>\\r\\n\\t\\t</div>\\r\\n\\t</div>\\r\\n\\t<div class=\"shoes\">\\r\\n\\t\\t<div class=\"sized\">\\r\\n\\t\\t\\t<ul>\\r\\n\\t\\t\\t\\t<!--<li><a href=\"#\">site map</a></li>\\r\\n\\t\\t\\t\\t<li><a href=\"#\">information</a></li>\\r\\n\\t\\t\\t\\t-->\\r\\n\\t\\t\\t\\t<li><a href=\"http://www.oscn.net/applications/oscn/SimpleHelp.asp?HelpContextID=84\">Contact Us</a></li>\\r\\n\\t\\t\\t\\t<li><a href=\"/jobs/\">Careers</a></li>\\r\\n\\t\\t\\t\\t<li><a href=\"/pages/accessibility\">Accessibility ADA</a></li>\\r\\n\\t\\t\\t</ul>\\r\\n\\t\\t</div>\\r\\n\\t</div>\\r\\n</div>\\n\\t</div>\\n        <script src=\"/assets/js/jquery-1.11.1.min.js\"></script>\\n        <script src=\"/assets/js/bootstrap.min.js\"></script>\\n\\t\\t<script src=\"/assets/js/adobe.aria.menu.min.js\"></script>\\n        <script src=\"/assets/js/navigation.js\"></script>\\t\\t\\n        <script src=\"/assets/js/oscn.js\"></script>\\t\\n        <script src=\"/assets/js/table.sort.filter.js\"></script>\\t\\n<script src=\"/dockets/scripts/dockets.js\"></script>\\n<!--[if IE 7]>\\n\\t<script>\\n\\t\\tvar height = $(\".home-banner\").height();\\n\\t\\t$(\"#bg\").height(height);\\n\\t</script>\\n<![endif]-->\\n    </body>\\n</html>\\n'"
      ]
     },
     "execution_count": 10,
     "metadata": {},
     "output_type": "execute_result"
    }
   ],
   "source": [
    "casedetails = CaseDetails()   \n",
    "casedetails.page_source('tulsa', 'sc-2019-3899')\n",
    "casedetails.output.text"
   ]
  }
 ],
 "metadata": {
  "kernelspec": {
   "display_name": "Python 3",
   "language": "python",
   "name": "python3"
  },
  "language_info": {
   "codemirror_mode": {
    "name": "ipython",
    "version": 3
   },
   "file_extension": ".py",
   "mimetype": "text/x-python",
   "name": "python",
   "nbconvert_exporter": "python",
   "pygments_lexer": "ipython3",
   "version": "3.8.5"
  }
 },
 "nbformat": 4,
 "nbformat_minor": 4
}
